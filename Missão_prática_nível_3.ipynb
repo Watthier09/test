{
  "nbformat": 4,
  "nbformat_minor": 0,
  "metadata": {
    "colab": {
      "provenance": [],
      "authorship_tag": "ABX9TyOSjP3rwgUYxejLBhlswlnG",
      "include_colab_link": true
    },
    "kernelspec": {
      "name": "python3",
      "display_name": "Python 3"
    },
    "language_info": {
      "name": "python"
    }
  },
  "cells": [
    {
      "cell_type": "markdown",
      "metadata": {
        "id": "view-in-github",
        "colab_type": "text"
      },
      "source": [
        "<a href=\"https://colab.research.google.com/github/Watthier09/test/blob/main/Miss%C3%A3o_pr%C3%A1tica_n%C3%ADvel_3.ipynb\" target=\"_parent\"><img src=\"https://colab.research.google.com/assets/colab-badge.svg\" alt=\"Open In Colab\"/></a>"
      ]
    },
    {
      "cell_type": "code",
      "execution_count": null,
      "metadata": {
        "colab": {
          "base_uri": "https://localhost:8080/"
        },
        "id": "W9qYi_ee7VFw",
        "outputId": "883ecc7c-dc1c-447b-e0de-9d87edd51c77"
      },
      "outputs": [
        {
          "output_type": "stream",
          "name": "stdout",
          "text": [
            " VOCÊ PODE FAZER TESTE COM DIFERENTES SEQUENCIAS NUMÉRICAS \n",
            "Escreva o Primeiro valor: 1\n",
            "Escreva o Segundo valor: 2\n",
            "Escreva o Terceiro valor: 3\n",
            "[[], [1], [2], [3], [1, 2], [1, 3], [2, 3], [1, 2, 3]]\n",
            "\n",
            "Alguns calculos com valores acima, usando tabela verdade:\n",
            "\n",
            "Soma dos três valores ( 1 + 2 + 3 )= 6\n",
            "\n",
            "A multiplicação do primeiro e do segundo valor( 1 x 2 ) é: 2\n",
            " \n",
            "Você digitou pelo menos um valor de número = 1, legal! \n",
            " \n",
            " \n"
          ]
        }
      ],
      "source": [
        "#célula de entrada de dados\n",
        "vazio=[]\n",
        "print(\" VOCÊ PODE FAZER TESTE COM DIFERENTES SEQUENCIAS NUMÉRICAS \")\n",
        "lsn1=(int(input('Escreva o Primeiro valor: ')))\n",
        "lsn2=(int(input('Escreva o Segundo valor: ')))\n",
        "lsn3=(int(input('Escreva o Terceiro valor: ')))\n",
        "\n",
        "#célula de tratamento de dados\n",
        "\n",
        "lis=[lsn1,lsn2,lsn3]\n",
        "l1=[lis[0],lis[1]]\n",
        "l2=[lis[0],lis[2]]\n",
        "l3=[lis[1],lis[2]]\n",
        "l4=[lis[0],lis[1],lis[2]]\n",
        "\n",
        "tdj=[vazio,[lis[0]],[lis[1]],[lis[2]],l1,l2,l3,l4]\n",
        "\n",
        "#célula de saída de dados\n",
        "print(tdj)\n",
        "\n",
        "print('')#linha em branco\n",
        "\n",
        "print(\"Alguns calculos com valores acima, usando tabela verdade:\")\n",
        "#Uso de tabela verdade de NOT ,AND e OR.\n",
        "print('')# LINHA EM BRANCO\n",
        "\n",
        "if lis[0]==lsn1 and lis[1]==lsn2 and lis[2]==lsn3:\n",
        "  soma_valores= lis[0]+lis[1]+lis[2]\n",
        "  print (\"Soma dos três valores (\", lis[0],\"+\",lis[1],\"+\",lis[2],\")=\", soma_valores)\n",
        "print('')#linha em branco\n",
        "\n",
        "if lis[0]==lsn1 or lis[0]==lsn2:\n",
        "  soma_valor12= lis[0] * lis[1] #vai multiplicar dois valores\n",
        "  print (\"A multiplicação do primeiro e do segundo valor(\", lis[0],\"x\",lis[1],\") é:\", soma_valor12)\n",
        "\n",
        "print(' ')#linha em branco\n",
        "\n",
        "if lis[0]== 1 or lis[1]== 1 or lis[2]== 1:#se algum dos valores forem = 1 ele dira, \"voce  digitou algum valor 1\"\n",
        "  print(\"Você digitou pelo menos um valor de número = 1, legal! \")\n",
        "print(' ')#linha em branco\n",
        "\n",
        "if not lis[0]==1 and not lis[1]==1 and not lis[2]==1: #se todos os valores forem diferentes de 1 ele dira voce n digitou nenhum \"valor 1\"\n",
        "  print(\"Você não digitou nenhum valor com número= 1\")\n",
        "\n",
        "print(' ')#linha em branco\n",
        "if lis[0]== 1 and lis[1]== 1 and lis[2]== 1:\n",
        "  print(\"Você digitou os três valore = 1, legal!\")"
      ]
    }
  ]
}